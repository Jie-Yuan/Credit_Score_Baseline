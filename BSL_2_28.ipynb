{
 "cells": [
  {
   "cell_type": "code",
   "execution_count": 1,
   "metadata": {},
   "outputs": [],
   "source": [
    "import time\n",
    "import matplotlib.pyplot as plt\n",
    "plt.rcParams['font.sans-serif']=['SimHei'] #用来正常显示中文标签\n",
    "plt.rcParams['axes.unicode_minus']=False #用来正常显示负号\n",
    "plt.rcParams['font.family'] = ['sans-serif']\n",
    "import seaborn as sns\n",
    "import numpy as np\n",
    "\n",
    "import pandas as pd\n",
    "import lightgbm as lgb\n",
    "from sklearn.model_selection import StratifiedKFold\n",
    "from sklearn.preprocessing import LabelEncoder\n",
    "pd.set_option('display.max_columns',100)#显示最大列数"
   ]
  },
  {
   "cell_type": "markdown",
   "metadata": {},
   "source": [
    "# 读取数据"
   ]
  },
  {
   "cell_type": "code",
   "execution_count": 2,
   "metadata": {},
   "outputs": [],
   "source": [
    "data_path = '../data/'\n",
    "train_data = pd.read_csv(data_path + 'train_dataset.csv')\n",
    "test_data = pd.read_csv(data_path + 'test_dataset.csv')\n",
    "sample_sub = pd.read_csv(data_path + 'submit_example.csv')"
   ]
  },
  {
   "cell_type": "markdown",
   "metadata": {},
   "source": [
    "# 查看特征名称"
   ]
  },
  {
   "cell_type": "code",
   "execution_count": 3,
   "metadata": {},
   "outputs": [
    {
     "name": "stdout",
     "output_type": "stream",
     "text": [
      "Index(['用户编码', '用户实名制是否通过核实', '用户年龄', '是否大学生客户', '是否黑名单客户', '是否4G不健康客户',\n",
      "       '用户网龄（月）', '用户最近一次缴费距今时长（月）', '缴费用户最近一次缴费金额（元）', '用户近6个月平均消费值（元）',\n",
      "       '用户账单当月总费用（元）', '用户当月账户余额（元）', '缴费用户当前是否欠费缴费', '用户话费敏感度', '当月通话交往圈人数',\n",
      "       '是否经常逛商场的人', '近三个月月均商场出现次数', '当月是否逛过福州仓山万达', '当月是否到过福州山姆会员店', '当月是否看电影',\n",
      "       '当月是否景点游览', '当月是否体育场馆消费', '当月网购类应用使用次数', '当月物流快递类应用使用次数',\n",
      "       '当月金融理财类应用使用总次数', '当月视频播放类应用使用次数', '当月飞机类应用使用次数', '当月火车类应用使用次数',\n",
      "       '当月旅游资讯类应用使用次数', '信用分'],\n",
      "      dtype='object')\n"
     ]
    }
   ],
   "source": [
    "train_data.columns"
   ]
  },
  {
   "cell_type": "markdown",
   "metadata": {},
   "source": [
    "# 查看是否存在缺失值，以及数据量"
   ]
  },
  {
   "cell_type": "markdown",
   "metadata": {},
   "source": [
    "\n",
    "train_data.info()"
   ]
  },
  {
   "cell_type": "markdown",
   "metadata": {},
   "source": [
    "# 特征工程"
   ]
  },
  {
   "cell_type": "code",
   "execution_count": 5,
   "metadata": {},
   "outputs": [
    {
     "name": "stderr",
     "output_type": "stream",
     "text": [
      "/root/userfolder/anac/root/userfolder/anaconda/lib/python3.6/site-packages/ipykernel_launcher.py:4: SettingWithCopyWarning: \n",
      "A value is trying to be set on a copy of a slice from a DataFrame\n",
      "\n",
      "See the caveats in the documentation: http://pandas.pydata.org/pandas-docs/stable/indexing.html#indexing-view-versus-copy\n",
      "  after removing the cwd from sys.path.\n"
     ]
    }
   ],
   "source": [
    "##top up amount, 充值金额是整数，和小数，应该对应不同的充值途径？\n",
    "def produce_offline_feature(train_data):\n",
    "    train_data['不同充值途径']=0\n",
    "    train_data['不同充值途径'][(train_data['缴费用户最近一次缴费金额（元）']%10==0)&train_data['缴费用户最近一次缴费金额（元）']!=0]=1\n",
    "    return train_data\n",
    "\n",
    "train_data=produce_offline_feature(train_data)\n",
    "test_data=produce_offline_feature(test_data)"
   ]
  },
  {
   "cell_type": "code",
   "execution_count": 6,
   "metadata": {},
   "outputs": [
    {
     "name": "stderr",
     "output_type": "stream",
     "text": [
      "/root/userfolder/anac/root/userfolder/anaconda/lib/python3.6/site-packages/ipykernel_launcher.py:4: SettingWithCopyWarning: \n",
      "A value is trying to be set on a copy of a slice from a DataFrame\n",
      "\n",
      "See the caveats in the documentation: http://pandas.pydata.org/pandas-docs/stable/indexing.html#indexing-view-versus-copy\n",
      "  after removing the cwd from sys.path.\n"
     ]
    }
   ],
   "source": [
    "##看importance，当月话费 和最近半年平均话费都很高，算一下当月/半年 -->稳定性\n",
    "def produce_fee_rate(train_data):\n",
    "    train_data['当前费用稳定性']=train_data['用户账单当月总费用（元）']/(train_data['用户近6个月平均消费值（元）']+1)\n",
    "    \n",
    "    ##当月话费/当月账户余额\n",
    "    train_data['用户余额比例']=train_data['用户账单当月总费用（元）']/(train_data['用户当月账户余额（元）']+1)\n",
    "    return train_data\n",
    "\n",
    "train_data=produce_offline_feature(train_data)\n",
    "test_data=produce_offline_feature(test_data)"
   ]
  },
  {
   "cell_type": "code",
   "execution_count": 7,
   "metadata": {},
   "outputs": [],
   "source": [
    "#获取特征\n",
    "def get_features(data):\n",
    "    data.loc[data['用户年龄']==0,'用户年龄']=data['用户年龄'].mode()\n",
    "    data['缴费金额是否能覆盖当月账单']=data['缴费用户最近一次缴费金额（元）']-data['用户账单当月总费用（元）']\n",
    "    data['最近一次缴费是否超过平均消费额']=data['缴费用户最近一次缴费金额（元）']-data['用户近6个月平均消费值（元）']\n",
    "    data['当月账单是否超过平均消费额']=data['用户账单当月总费用（元）']-data['用户近6个月平均消费值（元）']\n",
    "    \n",
    "    #映射年龄\n",
    "    def map_age(x):\n",
    "        if x<=18:\n",
    "            return 1\n",
    "        elif x<=30:\n",
    "            return 2\n",
    "        elif x<=35:\n",
    "            return 3\n",
    "        elif x<=45:\n",
    "            return 4\n",
    "        else:\n",
    "            return 5\n",
    "    data['是否大学生_黑名单']=data['是否大学生客户']+data['是否黑名单客户']\n",
    "    data['是否去过高档商场']=data['当月是否到过福州山姆会员店']+data['当月是否逛过福州仓山万达']\n",
    "    data['是否去过高档商场']=data['是否去过高档商场'].map(lambda x:1 if x>=1 else 0)\n",
    "    data['是否_商场_电影']=data['是否去过高档商场']*data['当月是否看电影']\n",
    "    data['是否_商场_体育馆']=data['是否去过高档商场']*data['当月是否体育场馆消费']\n",
    "    data['是否_商场_旅游']=data['是否去过高档商场']*data['当月是否景点游览']\n",
    "    data['是否_电影_体育馆']=data['当月是否看电影']*data['当月是否体育场馆消费']\n",
    "    data['是否_电影_旅游']=data['当月是否看电影']*data['当月是否景点游览']\n",
    "    data['是否_旅游_体育馆']=data['当月是否景点游览']*data['当月是否体育场馆消费']\n",
    "    \n",
    "    data['是否_商场_旅游_体育馆']=data['是否去过高档商场']*data['当月是否景点游览']*data['当月是否体育场馆消费']\n",
    "    data['是否_商场_电影_体育馆']=data['是否去过高档商场']*data['当月是否看电影']*data['当月是否体育场馆消费']\n",
    "    data['是否_商场_电影_旅游']=data['是否去过高档商场']*data['当月是否看电影']*data['当月是否景点游览']\n",
    "    data['是否_体育馆_电影_旅游']=data['当月是否体育场馆消费']*data['当月是否看电影']*data['当月是否景点游览']\n",
    "    \n",
    "    data['是否_商场_体育馆_电影_旅游']=data['是否去过高档商场']*data['当月是否体育场馆消费']*data['当月是否看电影']*data['当月是否景点游览']\n",
    "    \n",
    "    discretize_features=['交通类应用使用次数','当月物流快递类应用使用次数','当月飞机类应用使用次数','当月火车类应用使用次数','当月旅游资讯类应用使用次数']\n",
    "    data['交通类应用使用次数']=data['当月飞机类应用使用次数']+data['当月火车类应用使用次数']\n",
    "    \n",
    "    data['6个月平均占比总费用']=data['用户近6个月平均消费值（元）']/data['用户账单当月总费用（元）']+1\n",
    "    \n",
    "    \n",
    "    def map_discretize(x):\n",
    "        if x==0:\n",
    "            return 0\n",
    "        elif x<=5:\n",
    "            return 1\n",
    "        elif x<=15:\n",
    "            return 2\n",
    "        elif x<=50:\n",
    "            return 3\n",
    "        elif x<=100:\n",
    "            return 4\n",
    "        else:\n",
    "            return 5\n",
    "        \n",
    "    for col in discretize_features[:]:\n",
    "        data[col]=data[col].map(lambda x:map_discretize(x))\n",
    "    \n",
    "    return data\n",
    "\n",
    "train_data=get_features(train_data)\n",
    "test_data=get_features(test_data)\n"
   ]
  },
  {
   "cell_type": "code",
   "execution_count": 8,
   "metadata": {},
   "outputs": [
    {
     "name": "stderr",
     "output_type": "stream",
     "text": [
      "/root/userfolder/anac/root/userfolder/anaconda/lib/python3.6/site-packages/numpy/lib/function_base.py:4291: RuntimeWarning: Invalid value encountered in percentile\n",
      "  interpolation=interpolation)\n"
     ]
    }
   ],
   "source": [
    "def base_process(data):\n",
    "    transform_value_feature=['用户年龄','用户网龄（月）','当月通话交往圈人数','近三个月月均商场出现次数','当月网购类应用使用次数','当月物流快递类应用使用次数'\n",
    "                            ,'当月金融理财类应用使用总次数','当月视频播放类应用使用次数','当月飞机类应用使用次数','当月火车类应用使用次数','当月旅游资讯类应用使用次数']\n",
    "    user_fea=['缴费用户最近一次缴费金额（元）','用户近6个月平均消费值（元）','用户账单当月总费用（元）','用户当月账户余额（元）']\n",
    "    log_features=['当月网购类应用使用次数','当月金融理财类应用使用总次数','当月物流快递类应用使用次数','当月视频播放类应用使用次数']\n",
    "    \n",
    "    #处理离散点\n",
    "    for col in transform_value_feature+user_fea+log_features:\n",
    "        #取出最高99.9%值\n",
    "        ulimit=np.percentile(train_data[col].values,99.9)\n",
    "        #取出最低0.1%值\n",
    "        llimit=np.percentile(train_data[col].values,0.1)\n",
    "        train_data.loc[train_data[col]>ulimit,col]=ulimit\n",
    "        train_data.loc[train_data[col]<llimit,col]=llimit\n",
    "        \n",
    "    for col in user_fea+log_features:\n",
    "        data[col]=data[col].map(lambda x:np.log1p(x))\n",
    "    \n",
    "    return data\n",
    "\n",
    "train_data=base_process(train_data)\n",
    "test_data=base_process(test_data)"
   ]
  },
  {
   "cell_type": "markdown",
   "metadata": {},
   "source": [
    "# 特征重要度显示函数"
   ]
  },
  {
   "cell_type": "code",
   "execution_count": 10,
   "metadata": {},
   "outputs": [],
   "source": [
    "def display_importances(feature_importance_df_):\n",
    "    cols = feature_importance_df_[[\"feature\", \"importance\"]].groupby(\"feature\").mean().sort_values(by=\"importance\", ascending=False)[:40].index\n",
    "    best_features = feature_importance_df_.loc[feature_importance_df_.feature.isin(cols)]\n",
    "    plt.figure(figsize=(8, 10))\n",
    "    sns.barplot(x=\"importance\", y=\"feature\", data=best_features.sort_values(by=\"importance\", ascending=False))\n",
    "    plt.title('LightGBM Features (avg over folds)')\n",
    "    plt.tight_layout()\n",
    "    plt.show()"
   ]
  },
  {
   "cell_type": "markdown",
   "metadata": {},
   "source": [
    "# 训练及预测"
   ]
  },
  {
   "cell_type": "code",
   "execution_count": 11,
   "metadata": {},
   "outputs": [],
   "source": [
    "#para\n",
    "params = {\n",
    "    'learning_rate': 0.01,\n",
    "    'boosting_type': 'gbdt',\n",
    "    'objective': 'regression_l1',\n",
    "    'metric': 'mae',\n",
    "    'feature_fraction': 0.6,\n",
    "    'bagging_fraction': 0.8,\n",
    "    'bagging_freq': 2,\n",
    "    'num_leaves': 31,\n",
    "    'verbose': -1,\n",
    "    'max_depth': -1,\n",
    "    'reg_alpha':2.2,\n",
    "    'reg_lambda':1.4,\n",
    "    'nthread': 8\n",
    "}"
   ]
  },
  {
   "cell_type": "code",
   "execution_count": 15,
   "metadata": {},
   "outputs": [
    {
     "name": "stdout",
     "output_type": "stream",
     "text": [
      "fold:  0  training\n",
      "Training until validation scores don't improve for 250 rounds.\n",
      "Early stopping, best iteration is:\n",
      "[3219]\tvalid_0's l1: 14.7349\n",
      "fold:  1  training\n",
      "Training until validation scores don't improve for 250 rounds.\n",
      "Early stopping, best iteration is:\n",
      "[3157]\tvalid_0's l1: 14.727\n",
      "fold:  2  training\n",
      "Training until validation scores don't improve for 250 rounds.\n",
      "Early stopping, best iteration is:\n",
      "[3882]\tvalid_0's l1: 14.5572\n",
      "fold:  3  training\n",
      "Training until validation scores don't improve for 250 rounds.\n",
      "Early stopping, best iteration is:\n",
      "[3999]\tvalid_0's l1: 14.5448\n",
      "fold:  4  training\n",
      "Training until validation scores don't improve for 250 rounds.\n",
      "Early stopping, best iteration is:\n",
      "[3685]\tvalid_0's l1: 14.7533\n",
      "fold:  0  training\n",
      "Training until validation scores don't improve for 250 rounds.\n",
      "Early stopping, best iteration is:\n",
      "[2878]\tvalid_0's l1: 14.6152\n",
      "fold:  1  training\n",
      "Training until validation scores don't improve for 250 rounds.\n",
      "Early stopping, best iteration is:\n",
      "[3032]\tvalid_0's l1: 14.6444\n",
      "fold:  2  training\n",
      "Training until validation scores don't improve for 250 rounds.\n",
      "Early stopping, best iteration is:\n",
      "[3794]\tvalid_0's l1: 14.5803\n",
      "fold:  3  training\n",
      "Training until validation scores don't improve for 250 rounds.\n",
      "Early stopping, best iteration is:\n",
      "[2933]\tvalid_0's l1: 14.7116\n",
      "fold:  4  training\n",
      "Training until validation scores don't improve for 250 rounds.\n",
      "Early stopping, best iteration is:\n",
      "[2426]\tvalid_0's l1: 14.7616\n",
      "fold:  0  training\n",
      "Training until validation scores don't improve for 250 rounds.\n",
      "Early stopping, best iteration is:\n",
      "[4285]\tvalid_0's l1: 14.7661\n",
      "fold:  1  training\n",
      "Training until validation scores don't improve for 250 rounds.\n",
      "Early stopping, best iteration is:\n",
      "[3659]\tvalid_0's l1: 14.8306\n",
      "fold:  2  training\n",
      "Training until validation scores don't improve for 250 rounds.\n",
      "Early stopping, best iteration is:\n",
      "[3316]\tvalid_0's l1: 14.487\n",
      "fold:  3  training\n",
      "Training until validation scores don't improve for 250 rounds.\n",
      "Early stopping, best iteration is:\n",
      "[2377]\tvalid_0's l1: 14.6276\n",
      "fold:  4  training\n",
      "Training until validation scores don't improve for 250 rounds.\n",
      "Early stopping, best iteration is:\n",
      "[3546]\tvalid_0's l1: 14.6045\n",
      "cv score for valid is:  0.06384399284244348\n"
     ]
    }
   ],
   "source": [
    "from sklearn.model_selection import KFold\n",
    "cv_pred_all = 0\n",
    "en_amount = 3\n",
    "\n",
    "oof_lgb1=np.zeros(len(train_data))\n",
    "prediction_lgb1=np.zeros(len(test_data))\n",
    "\n",
    "for seed in range(en_amount):\n",
    "    NFOLDS = 5\n",
    "    train_label = train_data['信用分']\n",
    "    \n",
    "    kfold = KFold(n_splits=NFOLDS, shuffle=True, random_state=seed)\n",
    "    kf = kfold.split(train_data, train_label)\n",
    "\n",
    "    train_data_use = train_data.drop(['用户编码','信用分'], axis=1)\n",
    "    test_data_use = test_data.drop(['用户编码'], axis=1)\n",
    "\n",
    "\n",
    "    cv_pred = np.zeros(test_data.shape[0])\n",
    "    valid_best_l2_all = 0\n",
    "\n",
    "    feature_importance_df = pd.DataFrame()\n",
    "    count = 0\n",
    "    for i, (train_fold, validate) in enumerate(kf):\n",
    "        print('fold: ',i, ' training')\n",
    "        X_train, X_validate, label_train, label_validate = \\\n",
    "        train_data_use.iloc[train_fold, :], train_data_use.iloc[validate, :], \\\n",
    "        train_label[train_fold], train_label[validate]\n",
    "        dtrain = lgb.Dataset(X_train, label_train)\n",
    "        dvalid = lgb.Dataset(X_validate, label_validate, reference=dtrain)\n",
    "        bst = lgb.train(params, dtrain, num_boost_round=10000, valid_sets=dvalid, verbose_eval=-1,early_stopping_rounds=250)\n",
    "        cv_pred += bst.predict(test_data_use, num_iteration=bst.best_iteration)\n",
    "        valid_best_l2_all += bst.best_score['valid_0']['l1']\n",
    "        \n",
    "        oof_lgb1[validate]=bst.predict(X_validate,num_iteration=bst.best_iteration)\n",
    "        prediction_lgb1+=bst.predict(test_data_use,num_iteration=bst.best_iteration)/kfold.n_splits\n",
    "\n",
    "        fold_importance_df = pd.DataFrame()\n",
    "        fold_importance_df[\"feature\"] = list(X_train.columns)\n",
    "        fold_importance_df[\"importance\"] = bst.feature_importance(importance_type='split', iteration=bst.best_iteration)\n",
    "        fold_importance_df[\"fold\"] = count + 1\n",
    "        feature_importance_df = pd.concat([feature_importance_df, fold_importance_df], axis=0)\n",
    "        count += 1\n",
    "\n",
    "    cv_pred /= NFOLDS\n",
    "    valid_best_l2_all /= NFOLDS\n",
    "    \n",
    "    cv_pred_all += cv_pred\n",
    "cv_pred_all /= en_amount\n",
    "prediction_lgb1/=en_amount\n",
    "print('cv score for valid is: ', 1/(1+valid_best_l2_all))\n"
   ]
  },
  {
   "cell_type": "markdown",
   "metadata": {},
   "source": [
    "# 查看lgb训练完后特征重要度"
   ]
  },
  {
   "cell_type": "code",
   "execution_count": 16,
   "metadata": {},
   "outputs": [
    {
     "data": {
      "image/png": "[encoded data removed]",
      "text/plain": [
       "<Figure size 576x720 with 1 Axes>"
      ]
     },
     "metadata": {},
     "output_type": "display_data"
    }
   ],
   "source": [
    "display_importances(feature_importance_df)"
   ]
  },
  {
   "cell_type": "markdown",
   "metadata": {},
   "source": [
    "# XGB训练及预测"
   ]
  },
  {
   "cell_type": "code",
   "execution_count": 14,
   "metadata": {},
   "outputs": [
    {
     "name": "stdout",
     "output_type": "stream",
     "text": [
      "fold:  0  training\n",
      "[0]\ttrain-mae:614.391\tvalid_data-mae:614.764\n",
      "Multiple eval metrics have been passed: 'valid_data-mae' will be used for early stopping.\n",
      "\n",
      "Will train until valid_data-mae hasn't improved in 100 rounds.\n",
      "[300]\ttrain-mae:136.71\tvalid_data-mae:136.784\n",
      "[600]\ttrain-mae:31.7497\tvalid_data-mae:32.5511\n",
      "[900]\ttrain-mae:13.97\tvalid_data-mae:16.1708\n",
      "[1200]\ttrain-mae:11.8572\tvalid_data-mae:14.8778\n",
      "[1500]\ttrain-mae:11.1107\tvalid_data-mae:14.7337\n",
      "[1800]\ttrain-mae:10.5169\tvalid_data-mae:14.7016\n",
      "[2100]\ttrain-mae:9.99696\tvalid_data-mae:14.693\n",
      "Stopping. Best iteration:\n",
      "[2004]\ttrain-mae:10.154\tvalid_data-mae:14.6922\n",
      "\n",
      "fold:  1  training\n",
      "[0]\ttrain-mae:614.307\tvalid_data-mae:615.108\n",
      "Multiple eval metrics have been passed: 'valid_data-mae' will be used for early stopping.\n",
      "\n",
      "Will train until valid_data-mae hasn't improved in 100 rounds.\n",
      "[300]\ttrain-mae:136.694\tvalid_data-mae:137.106\n",
      "[600]\ttrain-mae:31.7562\tvalid_data-mae:32.7502\n",
      "[900]\ttrain-mae:14.0004\tvalid_data-mae:16.1942\n",
      "[1200]\ttrain-mae:11.8794\tvalid_data-mae:14.8063\n",
      "[1500]\ttrain-mae:11.1338\tvalid_data-mae:14.6419\n",
      "[1800]\ttrain-mae:10.5192\tvalid_data-mae:14.6058\n",
      "[2100]\ttrain-mae:9.98393\tvalid_data-mae:14.5982\n",
      "[2400]\ttrain-mae:9.50967\tvalid_data-mae:14.5929\n",
      "Stopping. Best iteration:\n",
      "[2354]\ttrain-mae:9.57776\tvalid_data-mae:14.5921\n",
      "\n",
      "fold:  2  training\n",
      "[0]\ttrain-mae:614.53\tvalid_data-mae:614.212\n",
      "Multiple eval metrics have been passed: 'valid_data-mae' will be used for early stopping.\n",
      "\n",
      "Will train until valid_data-mae hasn't improved in 100 rounds.\n",
      "[300]\ttrain-mae:136.742\tvalid_data-mae:136.479\n",
      "[600]\ttrain-mae:31.7363\tvalid_data-mae:32.4343\n",
      "[900]\ttrain-mae:13.9295\tvalid_data-mae:16.2531\n",
      "[1200]\ttrain-mae:11.8006\tvalid_data-mae:15.008\n",
      "[1500]\ttrain-mae:11.0263\tvalid_data-mae:14.8821\n",
      "[1800]\ttrain-mae:10.4174\tvalid_data-mae:14.858\n",
      "[2100]\ttrain-mae:9.88609\tvalid_data-mae:14.8534\n",
      "Stopping. Best iteration:\n",
      "[2049]\ttrain-mae:9.96751\tvalid_data-mae:14.853\n",
      "\n",
      "fold:  3  training\n",
      "[0]\ttrain-mae:614.634\tvalid_data-mae:613.797\n",
      "Multiple eval metrics have been passed: 'valid_data-mae' will be used for early stopping.\n",
      "\n",
      "Will train until valid_data-mae hasn't improved in 100 rounds.\n",
      "[300]\ttrain-mae:136.772\tvalid_data-mae:136.547\n",
      "[600]\ttrain-mae:31.7479\tvalid_data-mae:32.6179\n",
      "[900]\ttrain-mae:13.9509\tvalid_data-mae:16.3092\n",
      "[1200]\ttrain-mae:11.8327\tvalid_data-mae:14.9424\n",
      "[1500]\ttrain-mae:11.0976\tvalid_data-mae:14.7883\n",
      "[1800]\ttrain-mae:10.4965\tvalid_data-mae:14.7456\n",
      "[2100]\ttrain-mae:9.96365\tvalid_data-mae:14.7313\n",
      "[2400]\ttrain-mae:9.47562\tvalid_data-mae:14.7226\n",
      "Stopping. Best iteration:\n",
      "[2456]\ttrain-mae:9.38959\tvalid_data-mae:14.7206\n",
      "\n",
      "fold:  4  training\n",
      "[0]\ttrain-mae:614.471\tvalid_data-mae:614.45\n",
      "Multiple eval metrics have been passed: 'valid_data-mae' will be used for early stopping.\n",
      "\n",
      "Will train until valid_data-mae hasn't improved in 100 rounds.\n",
      "[300]\ttrain-mae:136.732\tvalid_data-mae:136.747\n",
      "[600]\ttrain-mae:31.7646\tvalid_data-mae:32.6004\n",
      "[900]\ttrain-mae:13.9576\tvalid_data-mae:16.3244\n",
      "[1200]\ttrain-mae:11.8517\tvalid_data-mae:14.9775\n",
      "[1500]\ttrain-mae:11.0981\tvalid_data-mae:14.8269\n",
      "[1800]\ttrain-mae:10.4988\tvalid_data-mae:14.7876\n",
      "[2100]\ttrain-mae:9.96374\tvalid_data-mae:14.7766\n",
      "[2400]\ttrain-mae:9.48804\tvalid_data-mae:14.7711\n",
      "Stopping. Best iteration:\n",
      "[2379]\ttrain-mae:9.51802\tvalid_data-mae:14.7705\n",
      "\n",
      "fold:  0  training\n",
      "[0]\ttrain-mae:614.458\tvalid_data-mae:614.501\n",
      "Multiple eval metrics have been passed: 'valid_data-mae' will be used for early stopping.\n",
      "\n",
      "Will train until valid_data-mae hasn't improved in 100 rounds.\n",
      "[300]\ttrain-mae:136.726\tvalid_data-mae:136.78\n",
      "[600]\ttrain-mae:31.7483\tvalid_data-mae:32.6132\n",
      "[900]\ttrain-mae:13.9733\tvalid_data-mae:16.2564\n",
      "[1200]\ttrain-mae:11.8312\tvalid_data-mae:14.9185\n",
      "[1500]\ttrain-mae:11.0646\tvalid_data-mae:14.7713\n",
      "[1800]\ttrain-mae:10.4828\tvalid_data-mae:14.7419\n",
      "[2100]\ttrain-mae:9.94272\tvalid_data-mae:14.7322\n",
      "Stopping. Best iteration:\n",
      "[2236]\ttrain-mae:9.72203\tvalid_data-mae:14.7294\n",
      "\n",
      "fold:  1  training\n",
      "[0]\ttrain-mae:614.363\tvalid_data-mae:614.885\n",
      "Multiple eval metrics have been passed: 'valid_data-mae' will be used for early stopping.\n",
      "\n",
      "Will train until valid_data-mae hasn't improved in 100 rounds.\n",
      "[300]\ttrain-mae:136.71\tvalid_data-mae:136.922\n",
      "[600]\ttrain-mae:31.7594\tvalid_data-mae:32.6272\n",
      "[900]\ttrain-mae:13.9805\tvalid_data-mae:16.2034\n",
      "[1200]\ttrain-mae:11.8677\tvalid_data-mae:14.8624\n",
      "[1500]\ttrain-mae:11.1126\tvalid_data-mae:14.7152\n",
      "[1800]\ttrain-mae:10.5141\tvalid_data-mae:14.6803\n",
      "[2100]\ttrain-mae:9.99396\tvalid_data-mae:14.6696\n",
      "[2400]\ttrain-mae:9.50248\tvalid_data-mae:14.6635\n",
      "Stopping. Best iteration:\n",
      "[2483]\ttrain-mae:9.37152\tvalid_data-mae:14.6621\n",
      "\n",
      "fold:  2  training\n",
      "[0]\ttrain-mae:614.541\tvalid_data-mae:614.169\n",
      "Multiple eval metrics have been passed: 'valid_data-mae' will be used for early stopping.\n",
      "\n",
      "Will train until valid_data-mae hasn't improved in 100 rounds.\n",
      "[300]\ttrain-mae:136.744\tvalid_data-mae:136.509\n",
      "[600]\ttrain-mae:31.7346\tvalid_data-mae:32.5367\n",
      "[900]\ttrain-mae:13.942\tvalid_data-mae:16.3217\n",
      "[1200]\ttrain-mae:11.8286\tvalid_data-mae:15.0128\n",
      "[1500]\ttrain-mae:11.081\tvalid_data-mae:14.8748\n",
      "[1800]\ttrain-mae:10.4719\tvalid_data-mae:14.8469\n",
      "[2100]\ttrain-mae:9.93987\tvalid_data-mae:14.8372\n",
      "[2400]\ttrain-mae:9.46847\tvalid_data-mae:14.836\n",
      "Stopping. Best iteration:\n",
      "[2371]\ttrain-mae:9.51139\tvalid_data-mae:14.834\n",
      "\n",
      "fold:  3  training\n",
      "[0]\ttrain-mae:614.523\tvalid_data-mae:614.243\n",
      "Multiple eval metrics have been passed: 'valid_data-mae' will be used for early stopping.\n",
      "\n",
      "Will train until valid_data-mae hasn't improved in 100 rounds.\n",
      "[300]\ttrain-mae:136.745\tvalid_data-mae:136.841\n",
      "[600]\ttrain-mae:31.77\tvalid_data-mae:32.6623\n",
      "[900]\ttrain-mae:13.9902\tvalid_data-mae:16.1901\n",
      "[1200]\ttrain-mae:11.8443\tvalid_data-mae:14.8427\n",
      "[1500]\ttrain-mae:11.091\tvalid_data-mae:14.6828\n",
      "[1800]\ttrain-mae:10.4922\tvalid_data-mae:14.6466\n",
      "[2100]\ttrain-mae:9.9599\tvalid_data-mae:14.6353\n",
      "[2400]\ttrain-mae:9.46656\tvalid_data-mae:14.6299\n",
      "[2700]\ttrain-mae:9.0248\tvalid_data-mae:14.6271\n",
      "Stopping. Best iteration:\n",
      "[2691]\ttrain-mae:9.03677\tvalid_data-mae:14.6262\n",
      "\n",
      "fold:  4  training\n",
      "[0]\ttrain-mae:614.449\tvalid_data-mae:614.536\n",
      "Multiple eval metrics have been passed: 'valid_data-mae' will be used for early stopping.\n",
      "\n",
      "Will train until valid_data-mae hasn't improved in 100 rounds.\n",
      "[300]\ttrain-mae:136.728\tvalid_data-mae:136.589\n",
      "[600]\ttrain-mae:31.7476\tvalid_data-mae:32.479\n",
      "[900]\ttrain-mae:13.9488\tvalid_data-mae:16.2546\n",
      "[1200]\ttrain-mae:11.8188\tvalid_data-mae:14.9577\n",
      "[1500]\ttrain-mae:11.0544\tvalid_data-mae:14.8192\n",
      "[1800]\ttrain-mae:10.4791\tvalid_data-mae:14.7939\n",
      "[2100]\ttrain-mae:9.95315\tvalid_data-mae:14.791\n",
      "Stopping. Best iteration:\n",
      "[2007]\ttrain-mae:10.1032\tvalid_data-mae:14.7893\n",
      "\n",
      "fold:  0  training\n",
      "[0]\ttrain-mae:614.663\tvalid_data-mae:613.679\n",
      "Multiple eval metrics have been passed: 'valid_data-mae' will be used for early stopping.\n",
      "\n",
      "Will train until valid_data-mae hasn't improved in 100 rounds.\n",
      "[300]\ttrain-mae:136.776\tvalid_data-mae:136.565\n",
      "[600]\ttrain-mae:31.7469\tvalid_data-mae:32.7408\n",
      "[900]\ttrain-mae:13.9379\tvalid_data-mae:16.4398\n",
      "[1200]\ttrain-mae:11.8448\tvalid_data-mae:15.0414\n",
      "[1500]\ttrain-mae:11.0842\tvalid_data-mae:14.8884\n",
      "[1800]\ttrain-mae:10.4917\tvalid_data-mae:14.857\n",
      "[2100]\ttrain-mae:9.95026\tvalid_data-mae:14.8485\n",
      "Stopping. Best iteration:\n",
      "[2205]\ttrain-mae:9.77368\tvalid_data-mae:14.847\n",
      "\n",
      "fold:  1  training\n",
      "[0]\ttrain-mae:614.393\tvalid_data-mae:614.763\n",
      "Multiple eval metrics have been passed: 'valid_data-mae' will be used for early stopping.\n",
      "\n",
      "Will train until valid_data-mae hasn't improved in 100 rounds.\n",
      "[300]\ttrain-mae:136.715\tvalid_data-mae:136.982\n",
      "[600]\ttrain-mae:31.7537\tvalid_data-mae:32.6487\n",
      "[900]\ttrain-mae:13.9631\tvalid_data-mae:16.261\n",
      "[1200]\ttrain-mae:11.8317\tvalid_data-mae:14.9422\n",
      "[1500]\ttrain-mae:11.0761\tvalid_data-mae:14.7999\n",
      "[1800]\ttrain-mae:10.475\tvalid_data-mae:14.7678\n",
      "[2100]\ttrain-mae:9.96195\tvalid_data-mae:14.761\n",
      "Stopping. Best iteration:\n",
      "[2161]\ttrain-mae:9.8583\tvalid_data-mae:14.7604\n",
      "\n",
      "fold:  2  training\n",
      "[0]\ttrain-mae:614.357\tvalid_data-mae:614.903\n",
      "Multiple eval metrics have been passed: 'valid_data-mae' will be used for early stopping.\n",
      "\n",
      "Will train until valid_data-mae hasn't improved in 100 rounds.\n",
      "[300]\ttrain-mae:136.702\tvalid_data-mae:136.954\n",
      "[600]\ttrain-mae:31.7661\tvalid_data-mae:32.631\n",
      "[900]\ttrain-mae:13.99\tvalid_data-mae:16.2163\n",
      "[1200]\ttrain-mae:11.8688\tvalid_data-mae:14.8476\n"
     ]
    },
    {
     "name": "stdout",
     "output_type": "stream",
     "text": [
      "[1500]\ttrain-mae:11.1237\tvalid_data-mae:14.6848\n",
      "[1800]\ttrain-mae:10.518\tvalid_data-mae:14.6463\n",
      "[2100]\ttrain-mae:9.98012\tvalid_data-mae:14.637\n",
      "[2400]\ttrain-mae:9.49281\tvalid_data-mae:14.6327\n",
      "Stopping. Best iteration:\n",
      "[2385]\ttrain-mae:9.51776\tvalid_data-mae:14.6324\n",
      "\n",
      "fold:  3  training\n",
      "[0]\ttrain-mae:614.467\tvalid_data-mae:614.459\n",
      "Multiple eval metrics have been passed: 'valid_data-mae' will be used for early stopping.\n",
      "\n",
      "Will train until valid_data-mae hasn't improved in 100 rounds.\n",
      "[300]\ttrain-mae:136.73\tvalid_data-mae:136.408\n",
      "[600]\ttrain-mae:31.7518\tvalid_data-mae:32.2803\n",
      "[900]\ttrain-mae:13.9581\tvalid_data-mae:16.0564\n",
      "[1200]\ttrain-mae:11.8405\tvalid_data-mae:14.793\n",
      "[1500]\ttrain-mae:11.0877\tvalid_data-mae:14.6669\n",
      "[1800]\ttrain-mae:10.4759\tvalid_data-mae:14.6427\n",
      "[2100]\ttrain-mae:9.95345\tvalid_data-mae:14.637\n",
      "Stopping. Best iteration:\n",
      "[2044]\ttrain-mae:10.0518\tvalid_data-mae:14.6354\n",
      "\n",
      "fold:  4  training\n",
      "[0]\ttrain-mae:614.452\tvalid_data-mae:614.526\n",
      "Multiple eval metrics have been passed: 'valid_data-mae' will be used for early stopping.\n",
      "\n",
      "Will train until valid_data-mae hasn't improved in 100 rounds.\n",
      "[300]\ttrain-mae:136.73\tvalid_data-mae:136.689\n",
      "[600]\ttrain-mae:31.7373\tvalid_data-mae:32.5632\n",
      "[900]\ttrain-mae:13.9665\tvalid_data-mae:16.2745\n",
      "[1200]\ttrain-mae:11.8392\tvalid_data-mae:14.9675\n",
      "[1500]\ttrain-mae:11.0614\tvalid_data-mae:14.8285\n",
      "[1800]\ttrain-mae:10.4532\tvalid_data-mae:14.7963\n",
      "[2100]\ttrain-mae:9.92317\tvalid_data-mae:14.7839\n",
      "Stopping. Best iteration:\n",
      "[2245]\ttrain-mae:9.67527\tvalid_data-mae:14.7793\n",
      "\n"
     ]
    },
    {
     "ename": "NameError",
     "evalue": "name 'prediction_lgb1' is not defined",
     "output_type": "error",
     "traceback": [
      "\u001b[0;31m---------------------------------------------------------------------------\u001b[0m",
      "\u001b[0;31mNameError\u001b[0m                                 Traceback (most recent call last)",
      "\u001b[0;32m<ipython-input-14-ac5e7655d9d8>\u001b[0m in \u001b[0;36m<module>\u001b[0;34m()\u001b[0m\n\u001b[1;32m     38\u001b[0m     \u001b[0mcv_pred_allxgb\u001b[0m\u001b[0;34m+=\u001b[0m\u001b[0mcv_pred\u001b[0m\u001b[0;34m\u001b[0m\u001b[0m\n\u001b[1;32m     39\u001b[0m \u001b[0mcv_pred_allxgb\u001b[0m \u001b[0;34m/=\u001b[0m \u001b[0men_amount\u001b[0m\u001b[0;34m\u001b[0m\u001b[0m\n\u001b[0;32m---> 40\u001b[0;31m \u001b[0mprediction_lgb1\u001b[0m\u001b[0;34m/=\u001b[0m\u001b[0men_amount\u001b[0m\u001b[0;34m\u001b[0m\u001b[0m\n\u001b[0m",
      "\u001b[0;31mNameError\u001b[0m: name 'prediction_lgb1' is not defined"
     ]
    }
   ],
   "source": [
    "\n",
    "import xgboost as xgb\n",
    "xgb_params={'eta': 0.005, 'max_depth': 10, 'subsample': 0.8, 'colsample_bytree': 0.8, \n",
    "          'objective': 'reg:linear', 'eval_metric': 'mae', 'silent': True, 'nthread': 8}\n",
    "from sklearn.model_selection import KFold\n",
    "cv_pred_allxgb=0\n",
    "en_amount=3\n",
    "oof_xgb1=np.zeros(len(train_data))\n",
    "prediction_xgb1=np.zeros(len(test_data))\n",
    "for seed in range(en_amount):\n",
    "    NFOLDS=5\n",
    "    train_label=train_data['信用分']\n",
    "    kfold=KFold(n_splits=NFOLDS, shuffle=True, random_state=seed+2019)\n",
    "    kf=kfold.split(train_data,train_label)\n",
    "    \n",
    "    train_data_use = train_data.drop(['用户编码','信用分'], axis=1)\n",
    "    test_data_use = test_data.drop(['用户编码'], axis=1)\n",
    "    \n",
    "    cv_pred = np.zeros(test_data.shape[0])\n",
    "    valid_best_l2_all = 0\n",
    "    \n",
    "    feature_importance_df = pd.DataFrame()\n",
    "    count = 0\n",
    "    \n",
    "    for i, (train_fold, validate) in enumerate(kf):\n",
    "        print('fold: ',i, ' training')\n",
    "        X_train, X_validate, label_train, label_validate = train_data_use.iloc[train_fold, :], train_data_use.iloc[validate, :], train_label[train_fold], train_label[validate]\n",
    "        dtrain = xgb.DMatrix(X_train, label_train)\n",
    "        dvalid = xgb.DMatrix(X_validate, label_validate)\n",
    "        watchlist = [(dtrain, 'train'), (dvalid, 'valid_data')]\n",
    "        bst = xgb.train(dtrain=dtrain, num_boost_round=10000, evals=watchlist, early_stopping_rounds=100, verbose_eval=300, params=xgb_params)\n",
    "        cv_pred += bst.predict(xgb.DMatrix(test_data_use), ntree_limit=bst.best_ntree_limit)\n",
    "        oof_xgb1[validate]=bst.predict(xgb.DMatrix(X_validate),ntree_limit=bst.best_ntree_limit)\n",
    "        prediction_xgb1+=bst.predict(xgb.DMatrix(test_data_use),ntree_limit=bst.best_ntree_limit)/kfold.n_splits\n",
    "        count += 1\n",
    "        \n",
    "    cv_pred /= NFOLDS\n",
    "    cv_pred_allxgb+=cv_pred\n",
    "cv_pred_allxgb /= en_amount\n"
   ]
  },
  {
   "cell_type": "code",
   "execution_count": 17,
   "metadata": {},
   "outputs": [],
   "source": [
    "prediction_xgb1/=en_amount"
   ]
  },
  {
   "cell_type": "code",
   "execution_count": 22,
   "metadata": {},
   "outputs": [
    {
     "name": "stdout",
     "output_type": "stream",
     "text": [
      "fold 0\n",
      "fold 1\n",
      "fold 2\n",
      "fold 3\n",
      "fold 4\n",
      "fold 5\n",
      "fold 6\n",
      "fold 7\n",
      "fold 8\n",
      "fold 9\n"
     ]
    },
    {
     "data": {
      "text/plain": [
       "14.654440731799697"
      ]
     },
     "execution_count": 22,
     "metadata": {},
     "output_type": "execute_result"
    }
   ],
   "source": [
    "from sklearn.linear_model import BayesianRidge\n",
    "from sklearn.model_selection import RepeatedKFold\n",
    "from sklearn.metrics import mean_absolute_error\n",
    "# 将lgb和xgb的结果进行stacking\n",
    "train_stack = np.vstack([oof_lgb1,oof_xgb1]).transpose()\n",
    "test_stack = np.vstack([prediction_lgb1, prediction_xgb1]).transpose()\n",
    "\n",
    "folds_stack = RepeatedKFold(n_splits=5, n_repeats=2, random_state=2019)\n",
    "oof_stack = np.zeros(train_stack.shape[0])\n",
    "predictions = np.zeros(test_stack.shape[0])\n",
    "target=train_data['信用分']\n",
    "for fold_, (trn_idx, val_idx) in enumerate(folds_stack.split(train_stack,target)):\n",
    "    print(\"fold {}\".format(fold_))\n",
    "    trn_data, trn_y = train_stack[trn_idx], target.iloc[trn_idx].values\n",
    "    val_data, val_y = train_stack[val_idx], target.iloc[val_idx].values\n",
    "    \n",
    "    clf_3 = BayesianRidge()\n",
    "    clf_3.fit(trn_data, trn_y)\n",
    "    \n",
    "    oof_stack[val_idx] = clf_3.predict(val_data)\n",
    "    predictions += clf_3.predict(test_stack) / 10\n",
    "    \n",
    "mean_absolute_error(target.values, oof_stack)"
   ]
  },
  {
   "cell_type": "code",
   "execution_count": 23,
   "metadata": {},
   "outputs": [
    {
     "name": "stderr",
     "output_type": "stream",
     "text": [
      "/root/userfolder/anac/root/userfolder/anaconda/lib/python3.6/site-packages/ipykernel_launcher.py:2: SettingWithCopyWarning: \n",
      "A value is trying to be set on a copy of a slice from a DataFrame.\n",
      "Try using .loc[row_indexer,col_indexer] = value instead\n",
      "\n",
      "See the caveats in the documentation: http://pandas.pydata.org/pandas-docs/stable/indexing.html#indexing-view-versus-copy\n",
      "  \n",
      "/root/userfolder/anac/root/userfolder/anaconda/lib/python3.6/site-packages/ipykernel_launcher.py:4: SettingWithCopyWarning: \n",
      "A value is trying to be set on a copy of a slice from a DataFrame.\n",
      "Try using .loc[row_indexer,col_indexer] = value instead\n",
      "\n",
      "See the caveats in the documentation: http://pandas.pydata.org/pandas-docs/stable/indexing.html#indexing-view-versus-copy\n",
      "  after removing the cwd from sys.path.\n"
     ]
    }
   ],
   "source": [
    "test_data_sub1 = test_data[['用户编码']]\n",
    "test_data_sub1['score'] =  predictions\n",
    "test_data_sub1.columns = ['id','score']\n",
    "test_data_sub1['score1'] = cv_pred_all\n"
   ]
  },
  {
   "cell_type": "code",
   "execution_count": 24,
   "metadata": {},
   "outputs": [
    {
     "name": "stderr",
     "output_type": "stream",
     "text": [
      "/root/userfolder/anac/root/userfolder/anaconda/lib/python3.6/site-packages/ipykernel_launcher.py:1: SettingWithCopyWarning: \n",
      "A value is trying to be set on a copy of a slice from a DataFrame.\n",
      "Try using .loc[row_indexer,col_indexer] = value instead\n",
      "\n",
      "See the caveats in the documentation: http://pandas.pydata.org/pandas-docs/stable/indexing.html#indexing-view-versus-copy\n",
      "  \"\"\"Entry point for launching an IPython kernel.\n"
     ]
    }
   ],
   "source": [
    "test_data_sub1['score'] = test_data_sub1['score'].apply(lambda x: int(np.round(x)))"
   ]
  },
  {
   "cell_type": "code",
   "execution_count": 25,
   "metadata": {},
   "outputs": [
    {
     "data": {
      "text/html": [
       "<div>\n",
       "<style scoped>\n",
       "    .dataframe tbody tr th:only-of-type {\n",
       "        vertical-align: middle;\n",
       "    }\n",
       "\n",
       "    .dataframe tbody tr th {\n",
       "        vertical-align: top;\n",
       "    }\n",
       "\n",
       "    .dataframe thead th {\n",
       "        text-align: right;\n",
       "    }\n",
       "</style>\n",
       "<table border=\"1\" class=\"dataframe\">\n",
       "  <thead>\n",
       "    <tr style=\"text-align: right;\">\n",
       "      <th></th>\n",
       "      <th>id</th>\n",
       "      <th>score</th>\n",
       "      <th>score1</th>\n",
       "    </tr>\n",
       "  </thead>\n",
       "  <tbody>\n",
       "    <tr>\n",
       "      <th>0</th>\n",
       "      <td>7171737d49b143d1b38883a39e4a5730</td>\n",
       "      <td>602</td>\n",
       "      <td>603.440961</td>\n",
       "    </tr>\n",
       "    <tr>\n",
       "      <th>1</th>\n",
       "      <td>3af0a449d5424488912e8fb2bf4b9faa</td>\n",
       "      <td>526</td>\n",
       "      <td>531.101508</td>\n",
       "    </tr>\n",
       "    <tr>\n",
       "      <th>2</th>\n",
       "      <td>eb2cf02e0d5c4d1294dd73e776dbb441</td>\n",
       "      <td>670</td>\n",
       "      <td>671.444630</td>\n",
       "    </tr>\n",
       "    <tr>\n",
       "      <th>3</th>\n",
       "      <td>9c0f780ecb254670a11aa9e3f10777c5</td>\n",
       "      <td>675</td>\n",
       "      <td>673.701584</td>\n",
       "    </tr>\n",
       "    <tr>\n",
       "      <th>4</th>\n",
       "      <td>d794eed46c1e44f785a575f18b3023a5</td>\n",
       "      <td>659</td>\n",
       "      <td>658.221532</td>\n",
       "    </tr>\n",
       "  </tbody>\n",
       "</table>\n",
       "</div>"
      ],
      "text/plain": [
       "                                 id  score      score1\n",
       "0  7171737d49b143d1b38883a39e4a5730    602  603.440961\n",
       "1  3af0a449d5424488912e8fb2bf4b9faa    526  531.101508\n",
       "2  eb2cf02e0d5c4d1294dd73e776dbb441    670  671.444630\n",
       "3  9c0f780ecb254670a11aa9e3f10777c5    675  673.701584\n",
       "4  d794eed46c1e44f785a575f18b3023a5    659  658.221532"
      ]
     },
     "execution_count": 25,
     "metadata": {},
     "output_type": "execute_result"
    }
   ],
   "source": [
    "test_data_sub1.head()"
   ]
  },
  {
   "cell_type": "code",
   "execution_count": 26,
   "metadata": {},
   "outputs": [],
   "source": [
    "test_data_sub1[['id','score']].to_csv('../output/sub2_28.csv', index=False)"
   ]
  },
  {
   "cell_type": "code",
   "execution_count": null,
   "metadata": {},
   "outputs": [],
   "source": []
  }
 ],
 "metadata": {
  "kernelspec": {
   "display_name": "Python 3",
   "language": "python",
   "name": "python3"
  },
  "language_info": {
   "codemirror_mode": {
    "name": "ipython",
    "version": 3
   },
   "file_extension": ".py",
   "mimetype": "text/x-python",
   "name": "python",
   "nbconvert_exporter": "python",
   "pygments_lexer": "ipython3",
   "version": "3.6.5"
  }
 },
 "nbformat": 4,
 "nbformat_minor": 2
}
